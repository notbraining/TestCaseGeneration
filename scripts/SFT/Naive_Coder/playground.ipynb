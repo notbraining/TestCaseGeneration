{
 "cells": [
  {
   "cell_type": "code",
   "execution_count": 10,
   "id": "3a04f4ad",
   "metadata": {},
   "outputs": [],
   "source": [
    "import datasets\n",
    "from datasets import load_from_disk"
   ]
  },
  {
   "cell_type": "code",
   "execution_count": 11,
   "id": "86b22d99",
   "metadata": {},
   "outputs": [
    {
     "name": "stdout",
     "output_type": "stream",
     "text": [
      "Dataset({\n",
      "    features: ['prompt', 'completion', 'inputs', 'output'],\n",
      "    num_rows: 1\n",
      "})\n"
     ]
    }
   ],
   "source": [
    "ds = load_from_disk(\"test.hf/\")\n",
    "print(ds)"
   ]
  },
  {
   "cell_type": "code",
   "execution_count": 12,
   "id": "d1b5dc70",
   "metadata": {},
   "outputs": [],
   "source": [
    "sample = next(iter(ds))"
   ]
  },
  {
   "cell_type": "code",
   "execution_count": 6,
   "id": "f422c8cf",
   "metadata": {},
   "outputs": [],
   "source": [
    "from datasets import load_dataset\n",
    "import os\n",
    "from datasets import Dataset\n",
    "import json\n",
    "import asyncio\n",
    "import aiohttp\n",
    "import multiprocessing\n",
    "import time\n",
    "import io\n",
    "import sys\n",
    "import builtins\n",
    "import re\n",
    "import random\n",
    "from tqdm import tqdm"
   ]
  },
  {
   "cell_type": "code",
   "execution_count": 7,
   "id": "bcd93a47",
   "metadata": {},
   "outputs": [],
   "source": [
    "def run_code(code: str, test_in: str, output_queue):\n",
    "    start = time.time()\n",
    "    compiled = re.findall(\"```python\\n(.*?)\\n```\", code, re.DOTALL)\n",
    "    if len(compiled) > 0:\n",
    "        code = compiled[-1]\n",
    "    else:\n",
    "        return \"CODE NOT FOUND\"\n",
    "    if isinstance(test_in, list):\n",
    "        test_in = \" \".join(str(s) for s in test_in)\n",
    "\n",
    "    # Mock input\n",
    "    input_lines = iter(test_in.splitlines())\n",
    "    builtins.input = lambda: next(input_lines)\n",
    "\n",
    "    # Capture output\n",
    "    buf = io.StringIO()\n",
    "    sys.stdout = buf\n",
    "    try:\n",
    "        exec(code)\n",
    "    except Exception as _:\n",
    "        output_queue.put((\"RUNTIME ERROR\\n\", 0))\n",
    "        return\n",
    "    finally:\n",
    "        sys.stdout = sys.__stdout__\n",
    "\n",
    "    output_queue.put(\n",
    "        (\n",
    "            {\n",
    "                \"output\": buf.getvalue(),\n",
    "                \"time\": time.time() - start,\n",
    "            },\n",
    "            0,\n",
    "        )\n",
    "    )"
   ]
  },
  {
   "cell_type": "code",
   "execution_count": null,
   "id": "c2c361dc",
   "metadata": {},
   "outputs": [],
   "source": [
    "def test_code(\n",
    "    code: str, inputs: list[str], outputs: list[str], time_limit=5000\n",
    ") -> bool:\n",
    "    for i in range(len(inputs)):\n",
    "        output_queue = multiprocessing.Queue()\n",
    "        p = multiprocessing.Process(target=run_code, args=(code, inputs, output_queue))\n",
    "        p.start()\n",
    "        p.join(timeout=time_limit)\n",
    "\n",
    "        if p.is_alive():\n",
    "            p.terminate()\n",
    "            print(\"infinite loop\")\n",
    "            return False\n",
    "        else:\n",
    "            try:\n",
    "                out, _ = output_queue.get(timeout=1)\n",
    "            except:\n",
    "                print(\"failed to get output\")\n",
    "                return False\n",
    "\n",
    "        if not(isinstance(out, dict) or out[\"output\"].rstrip() == outputs[i].rstrip()):\n",
    "            print(\"wrong output\")\n",
    "            return False\n",
    "\n",
    "    print(\"passed\")\n",
    "    return True"
   ]
  },
  {
   "cell_type": "code",
   "execution_count": 9,
   "id": "779f8fed",
   "metadata": {},
   "outputs": [
    {
     "name": "stderr",
     "output_type": "stream",
     "text": [
      "Traceback (most recent call last):\n",
      "  File \u001b[35m\"<string>\"\u001b[0m, line \u001b[35m1\u001b[0m, in \u001b[35m<module>\u001b[0m\n",
      "    from multiprocessing.spawn import spawn_main; \u001b[31mspawn_main\u001b[0m\u001b[1;31m(tracker_fd=75, pipe_handle=82)\u001b[0m\n",
      "                                                  \u001b[31m~~~~~~~~~~\u001b[0m\u001b[1;31m^^^^^^^^^^^^^^^^^^^^^^^^^^^^^^^\u001b[0m\n",
      "  File \u001b[35m\"/opt/homebrew/anaconda3/envs/CompetitiveLLM/lib/python3.13/multiprocessing/spawn.py\"\u001b[0m, line \u001b[35m122\u001b[0m, in \u001b[35mspawn_main\u001b[0m\n",
      "    exitcode = _main(fd, parent_sentinel)\n",
      "  File \u001b[35m\"/opt/homebrew/anaconda3/envs/CompetitiveLLM/lib/python3.13/multiprocessing/spawn.py\"\u001b[0m, line \u001b[35m132\u001b[0m, in \u001b[35m_main\u001b[0m\n",
      "    self = reduction.pickle.load(from_parent)\n",
      "\u001b[1;35mAttributeError\u001b[0m: \u001b[35mCan't get attribute 'run_code' on <module '__main__' (<class '_frozen_importlib.BuiltinImporter'>)>\u001b[0m\n"
     ]
    },
    {
     "name": "stdout",
     "output_type": "stream",
     "text": [
      "False\n"
     ]
    }
   ],
   "source": [
    "model_code =\"\"\"import math\n",
    "t = int(input())\n",
    "for _ in range(t):\n",
    "    n = int(input())\n",
    "    if n == 0:\n",
    "        print(-1)\n",
    "        continue\n",
    "    res = [0] * n\n",
    "    next_i = n - 1\n",
    "    while next_i >= 0:\n",
    "        s = math.isqrt(next_i)\n",
    "        if s * s < next_i:\n",
    "            s += 1\n",
    "        m = s * s\n",
    "        start = max(0, m - next_i)\n",
    "        end = next_i\n",
    "        for i in range(start, end + 1):\n",
    "            res[i] = m - i\n",
    "        next_i = start - 1\n",
    "    # Check if all elements are unique and in the correct range\n",
    "    valid = True\n",
    "    seen = [False] * n\n",
    "    for num in res:\n",
    "        if num < 0 or num >= n or seen[num]:\n",
    "            valid = False\n",
    "            break\n",
    "        seen[num] = True\n",
    "    if valid:\n",
    "        print(' '.join(map(str, res)))\n",
    "    else:\n",
    "        print(-1)\"\"\"\n",
    "\n",
    "print(test_code(model_code, [\"3\\n3\\n4\\n7\\n\"], [\"1 0 2 \\n0 3 2 1 \\n1 0 2 6 5 4 3 \\n\"]))"
   ]
  },
  {
   "cell_type": "code",
   "execution_count": null,
   "id": "532fca0a",
   "metadata": {},
   "outputs": [],
   "source": []
  }
 ],
 "metadata": {
  "kernelspec": {
   "display_name": "CompetitiveLLM",
   "language": "python",
   "name": "python3"
  },
  "language_info": {
   "codemirror_mode": {
    "name": "ipython",
    "version": 3
   },
   "file_extension": ".py",
   "mimetype": "text/x-python",
   "name": "python",
   "nbconvert_exporter": "python",
   "pygments_lexer": "ipython3",
   "version": "3.13.5"
  }
 },
 "nbformat": 4,
 "nbformat_minor": 5
}
