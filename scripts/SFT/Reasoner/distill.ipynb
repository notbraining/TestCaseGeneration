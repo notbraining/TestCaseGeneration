{
 "cells": [
  {
   "cell_type": "code",
   "execution_count": 50,
   "id": "cd89f917",
   "metadata": {},
   "outputs": [],
   "source": [
    "from openai import OpenAI\n",
    "from datasets import load_dataset\n",
    "import json"
   ]
  },
  {
   "cell_type": "code",
   "execution_count": null,
   "id": "878b3a06",
   "metadata": {},
   "outputs": [],
   "source": [
    "client = OpenAI(\n",
    "  base_url=\"https://openrouter.ai/api/v1\",\n",
    "  api_key=\"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\",\n",
    ")"
   ]
  },
  {
   "cell_type": "code",
   "execution_count": 30,
   "id": "0aac0c05",
   "metadata": {},
   "outputs": [],
   "source": [
    "def get_completion(client, prompt):\n",
    "    completion = client.chat.completions.create(\n",
    "    model=\"deepseek/deepseek-r1-0528\",\n",
    "    messages=[\n",
    "        {\n",
    "        \"role\": \"system\",\n",
    "        \"content\": \"Please put your answers in <answer></answer>\"\n",
    "        },\n",
    "        {\n",
    "        \"role\": \"user\",\n",
    "        \"content\": prompt\n",
    "        }\n",
    "    ]\n",
    "    )\n",
    "    return completion.choices[0].message.content"
   ]
  },
  {
   "cell_type": "code",
   "execution_count": 34,
   "id": "ac743a88",
   "metadata": {},
   "outputs": [
    {
     "name": "stdout",
     "output_type": "stream",
     "text": [
      "To convert radians to degrees, use the relationship that π radians equals 180 degrees.\n",
      "\n",
      "Given:  \n",
      "10π radians  \n",
      "\n",
      "Multiply the conversion factor:  \n",
      "10π radians × (180 degrees / π radians)  \n",
      "\n",
      "The π radians cancel out, leaving:  \n",
      "10 × 180 degrees = 1800 degrees  \n",
      "\n",
      "Therefore, 10π radians is equal to 1800 degrees.\n",
      "\n",
      "<answer>1800</answer>\n"
     ]
    }
   ],
   "source": [
    "# print(get_completion(client, \"Convert 10pi to degrees\"))"
   ]
  },
  {
   "cell_type": "code",
   "execution_count": 40,
   "id": "914490cc",
   "metadata": {},
   "outputs": [],
   "source": [
    "TACO = load_dataset(\"BAAI/TACO\")"
   ]
  },
  {
   "cell_type": "code",
   "execution_count": 46,
   "id": "97bc88ff",
   "metadata": {},
   "outputs": [],
   "source": [
    "train = TACO[\"train\"]\n",
    "test = TACO[\"test\"]"
   ]
  },
  {
   "cell_type": "code",
   "execution_count": 56,
   "id": "b17cf611",
   "metadata": {},
   "outputs": [
    {
     "name": "stdout",
     "output_type": "stream",
     "text": [
      "To solve this problem, we need to ensure that after sequentially placing `n` distinct integer points on a 2D plane, we can separate the points into two groups (based on their colors) with a straight line such that no point lies on the line. The solution involves strategically placing the points and then determining the separating line based on the colors received.\n",
      "\n",
      "### Approach\n",
      "1. **Point Placement**: The points are placed along a vertical line strategy. Specifically, each point is placed at `(i, mid)`, where `i` is the index of the point (0 to n-1) and `mid` is the midpoint of a binary search range. Initially, the range is `[0, 10^9]`.\n",
      "2. **Binary Search for Separation**: For each point placed, we adjust the binary search range based on the color received:\n",
      "   - If the point is \"black\", we update the lower bound to `mid + 1`, indicating that the separating line must be above this point.\n",
      "   - If the point is \"white\", we update the upper bound to `mid - 1`, indicating that the separating line must be below this point.\n",
      "3. **Determining the Separating Line**: After placing all points, the final separating line is a horizontal line at `y = L`, where `L` is the final lower bound from the binary search. The line is defined by two distinct points `(0, L)` and `(1, L)`.\n",
      "\n",
      "This approach ensures that all \"black\" points are below the line and all \"white\" points are above the line (or vice versa, depending on the adjustments), satisfying the problem constraints.\n",
      "\n",
      "### Solution Code\n",
      "```python\n",
      "import sys\n",
      "\n",
      "def main():\n",
      "    data = sys.stdin.read().splitlines()\n",
      "    if not data:\n",
      "        return\n",
      "    n = int(data[0].strip())\n",
      "    lo = 0\n",
      "    hi = 1000000000\n",
      "    points = []\n",
      "    \n",
      "    for i in range(n):\n",
      "        mid = (lo + hi) // 2\n",
      "        print(f\"{i} {mid}\")\n",
      "        sys.stdout.flush()\n",
      "        \n",
      "        s = sys.stdin.readline().strip()\n",
      "        if s == \"black\":\n",
      "            lo = mid + 1\n",
      "        elif s == \"white\":\n",
      "            hi = mid - 1\n",
      "    \n",
      "    x1, y1, x2, y2 = 0, lo, 1, lo\n",
      "    print(f\"{x1} {y1} {x2} {y2}\")\n",
      "    sys.stdout.flush()\n",
      "\n",
      "if __name__ == \"__main__\":\n",
      "    main()\n",
      "```\n",
      "\n",
      "### Explanation\n",
      "1. **Reading Input**: The number of points `n` is read from the input.\n",
      "2. **Binary Search Setup**: Initialize the binary search range `lo = 0` and `hi = 1000000000`.\n",
      "3. **Placing Points**: For each point from `0` to `n-1`:\n",
      "   - The y-coordinate is set to the midpoint `mid` of the current range `[lo, hi]`.\n",
      "   - The point `(i, mid)` is printed, and the color response is read.\n",
      "   - Depending on the color, the binary search range is adjusted:\n",
      "     - \"black\": Update `lo = mid + 1` to ensure future points and the separating line are above this point.\n",
      "     - \"white\": Update `hi = mid - 1` to ensure future points and the separating line are below this point.\n",
      "4. **Outputting the Separating Line**: After processing all points, a horizontal line `y = L` (where `L` is the final value of `lo`) is defined by two points `(0, L)` and `(1, L)`, ensuring all \"black\" points are below and all \"white\" points are above this line.\n",
      "\n",
      "This strategy efficiently places the points and determines a valid separating line by leveraging binary search, adapting to the color feedback dynamically.\n"
     ]
    }
   ],
   "source": [
    "for sample in iter(train):\n",
    "    print(get_completion(client, sample['question']))\n",
    "    break"
   ]
  },
  {
   "cell_type": "code",
   "execution_count": null,
   "id": "06abe028",
   "metadata": {},
   "outputs": [],
   "source": [
    "prompts = \n",
    "completion = []"
   ]
  },
  {
   "cell_type": "code",
   "execution_count": null,
   "id": "174d63bd",
   "metadata": {},
   "outputs": [],
   "source": [
    "def isValid(data : dict):\n",
    "    "
   ]
  }
 ],
 "metadata": {
  "kernelspec": {
   "display_name": "competitiveLLM",
   "language": "python",
   "name": "python3"
  },
  "language_info": {
   "codemirror_mode": {
    "name": "ipython",
    "version": 3
   },
   "file_extension": ".py",
   "mimetype": "text/x-python",
   "name": "python",
   "nbconvert_exporter": "python",
   "pygments_lexer": "ipython3",
   "version": "3.10.18"
  }
 },
 "nbformat": 4,
 "nbformat_minor": 5
}
