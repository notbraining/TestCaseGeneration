{
 "cells": [
  {
   "cell_type": "code",
   "execution_count": 12,
   "id": "3a93340e",
   "metadata": {},
   "outputs": [],
   "source": [
    "import datasets"
   ]
  },
  {
   "cell_type": "code",
   "execution_count": 13,
   "id": "f3e481f5",
   "metadata": {},
   "outputs": [],
   "source": [
    "data = datasets.load_from_disk('test.hf')"
   ]
  },
  {
   "cell_type": "code",
   "execution_count": 14,
   "id": "1240821e",
   "metadata": {},
   "outputs": [
    {
     "data": {
      "text/plain": [
       "Dataset({\n",
       "    features: ['prompt', 'completion'],\n",
       "    num_rows: 1\n",
       "})"
      ]
     },
     "execution_count": 14,
     "metadata": {},
     "output_type": "execute_result"
    }
   ],
   "source": [
    "data"
   ]
  },
  {
   "cell_type": "code",
   "execution_count": 16,
   "id": "554efc6d",
   "metadata": {},
   "outputs": [
    {
     "name": "stdout",
     "output_type": "stream",
     "text": [
      "{'prompt': 'Without writing code, read through this competitive programming question and find the answer for this given input at the end, and put your final answer between 2 tags <answer> and </answer>. The question is given between <question> and </question>, find the output of the input given in <input> and </input>. <question>\\nZookeeper is buying a carton of fruit to feed his pet wabbit. The fruits are a sequence of apples and oranges, which is represented by a binary string $s_1s_2\\\\ldots s_n$ of length $n$. $1$ represents an apple and $0$ represents an orange.\\n\\nSince wabbit is allergic to eating oranges, Zookeeper would like to find the longest contiguous sequence of apples. Let $f(l,r)$ be the longest contiguous sequence of apples in the substring $s_{l}s_{l+1}\\\\ldots s_{r}$. \\n\\nHelp Zookeeper find $\\\\sum_{l=1}^{n} \\\\sum_{r=l}^{n} f(l,r)$, or the sum of $f$ across all substrings.\\n\\n\\n-----Input-----\\n\\nThe first line contains a single integer $n$ $(1 \\\\leq n \\\\leq 5 \\\\cdot 10^5)$.\\n\\n The next line contains a binary string $s$ of length $n$ $(s_i \\\\in \\\\{0,1\\\\})$ \\n\\n\\n-----Output-----\\n\\nPrint a single integer: $\\\\sum_{l=1}^{n} \\\\sum_{r=l}^{n} f(l,r)$. \\n\\n\\n-----Examples-----\\nInput\\n4\\n0110\\n\\nOutput\\n12\\n\\nInput\\n7\\n1101001\\n\\nOutput\\n30\\n\\nInput\\n12\\n011100011100\\n\\nOutput\\n156\\n\\n\\n\\n-----Note-----\\n\\nIn the first test, there are ten substrings. The list of them (we let $[l,r]$ be the substring $s_l s_{l+1} \\\\ldots s_r$):  $[1,1]$: 0  $[1,2]$: 01  $[1,3]$: 011  $[1,4]$: 0110  $[2,2]$: 1  $[2,3]$: 11  $[2,4]$: 110  $[3,3]$: 1  $[3,4]$: 10  $[4,4]$: 0 \\n\\nThe lengths of the longest contiguous sequence of ones in each of these ten substrings are $0,1,2,2,1,2,2,1,1,0$ respectively. Hence, the answer is $0+1+2+2+1+2+2+1+1+0 = 12$.\\n</question>\\n\\n<input>\\n1\\n0\\n</input>. Also, remember to not write code, and just find the output with the given input in the tags.', 'completion': '0'}\n"
     ]
    }
   ],
   "source": [
    "for sample in data:\n",
    "    print(sample)"
   ]
  },
  {
   "cell_type": "code",
   "execution_count": null,
   "id": "5bee48f4",
   "metadata": {},
   "outputs": [],
   "source": []
  }
 ],
 "metadata": {
  "kernelspec": {
   "display_name": "competitiveLLM",
   "language": "python",
   "name": "python3"
  },
  "language_info": {
   "codemirror_mode": {
    "name": "ipython",
    "version": 3
   },
   "file_extension": ".py",
   "mimetype": "text/x-python",
   "name": "python",
   "nbconvert_exporter": "python",
   "pygments_lexer": "ipython3",
   "version": "3.10.18"
  }
 },
 "nbformat": 4,
 "nbformat_minor": 5
}
